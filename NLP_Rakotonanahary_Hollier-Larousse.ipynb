{
 "cells": [
  {
   "cell_type": "markdown",
   "metadata": {},
   "source": [
    "TP 1 NLP Rakotonanahary Dorian et Hollier-Larousse Nicolas INGE 3D\n",
    "\n",
    "\n",
    "Le dataset est disponible à cette adresse : https://www.kaggle.com/datasets/dargolex/french-reviews-on-movies-and-en-translation"
   ]
  },
  {
   "cell_type": "markdown",
   "metadata": {},
   "source": [
    "#### Importation des bibliothèques nécessaires"
   ]
  },
  {
   "cell_type": "code",
   "execution_count": 1,
   "metadata": {},
   "outputs": [
    {
     "name": "stderr",
     "output_type": "stream",
     "text": [
      "[nltk_data] Downloading package stopwords to\n",
      "[nltk_data]     C:\\Users\\PC\\AppData\\Roaming\\nltk_data...\n",
      "[nltk_data]   Package stopwords is already up-to-date!\n",
      "[nltk_data] Downloading package punkt to\n",
      "[nltk_data]     C:\\Users\\PC\\AppData\\Roaming\\nltk_data...\n",
      "[nltk_data]   Package punkt is already up-to-date!\n",
      "[nltk_data] Downloading package averaged_perceptron_tagger to\n",
      "[nltk_data]     C:\\Users\\PC\\AppData\\Roaming\\nltk_data...\n",
      "[nltk_data]   Package averaged_perceptron_tagger is already up-to-\n",
      "[nltk_data]       date!\n",
      "[nltk_data] Downloading package wordnet to\n",
      "[nltk_data]     C:\\Users\\PC\\AppData\\Roaming\\nltk_data...\n",
      "[nltk_data]   Package wordnet is already up-to-date!\n",
      "[nltk_data] Downloading package omw-1.4 to\n",
      "[nltk_data]     C:\\Users\\PC\\AppData\\Roaming\\nltk_data...\n",
      "[nltk_data]   Package omw-1.4 is already up-to-date!\n"
     ]
    },
    {
     "data": {
      "text/plain": [
       "True"
      ]
     },
     "execution_count": 1,
     "metadata": {},
     "output_type": "execute_result"
    }
   ],
   "source": [
    "#Importation des bibliothèques nécessaires\n",
    "\n",
    "import pandas as pd\n",
    "import nltk\n",
    "from nltk.corpus import stopwords\n",
    "from nltk.stem import PorterStemmer\n",
    "import re\n",
    "import gensim\n",
    "from gensim.models import Word2Vec\n",
    "from sklearn.model_selection import train_test_split\n",
    "from tensorflow.keras.models import Sequential\n",
    "from tensorflow.keras.layers import LSTM, Dense, Dropout\n",
    "import numpy as np\n",
    "from sklearn.metrics import classification_report, confusion_matrix\n",
    "import matplotlib.pyplot as plt\n",
    "\n",
    "#Téléchargement stop words et ressources NLTK\n",
    "\n",
    "nltk.download('stopwords')\n",
    "nltk.download('punkt')\n",
    "nltk.download('averaged_perceptron_tagger')\n",
    "nltk.download('wordnet')\n",
    "nltk.download('omw-1.4')"
   ]
  },
  {
   "cell_type": "markdown",
   "metadata": {},
   "source": [
    "#### Chargement de données nécessaires pour la visualisation et le modèle"
   ]
  },
  {
   "cell_type": "code",
   "execution_count": 2,
   "metadata": {},
   "outputs": [
    {
     "name": "stdout",
     "output_type": "stream",
     "text": [
      "rating\n",
      "1    20000\n",
      "0    20000\n",
      "Name: count, dtype: int64\n",
      "   rating                                             review\n",
      "0       1  \"Hangover Square\" pourrait n'être qu'un simple...\n",
      "1       0  Ce film est comme un roman de gare : c'est un ...\n",
      "2       1  Il est très difficile de juger ce film. Car il...\n",
      "3       0  Magnifiques paysages et une mère un peu décalé...\n",
      "4       1  Malgré les années qui passent, ce film culte r...\n"
     ]
    }
   ],
   "source": [
    "#Chargement du dataset\n",
    "file_path = 'french_to_english_movies.csv'\n",
    "data = pd.read_csv(file_path, header=None, names=['text', 'label', 'translation'])\n",
    " \n",
    "#Rename des colonnes\n",
    "data.rename(columns={'text': 'rating', 'label': 'review'}, inplace=True)\n",
    " \n",
    "#Focus sur les colonnes rating et review uniquement\n",
    "data = data[['rating', 'review']]\n",
    " \n",
    "#Convertir la colonne 'rating' en valeurs numériques \n",
    "data['rating'] = data['rating'].apply(pd.to_numeric, errors='coerce').fillna(0).astype(int)\n",
    " \n",
    "#Séparer les valeurs 0 et 1 dans des dataFrames distincts\n",
    "data_0 = data[data['rating'] == 0]\n",
    "data_1 = data[data['rating'] == 1]\n",
    " \n",
    "#Prendre un échantillon aléatoire de 2500 lignes de chaque classe\n",
    "sample_0 = data_0.sample(n=20000, random_state=42)\n",
    "sample_1 = data_1.sample(n=20000, random_state=42)\n",
    " \n",
    "#Fuse and merge les échantillons pour obtenir  40000 lignes\n",
    "data_balanced = pd.concat([sample_0, sample_1]).sample(frac=1, random_state=42).reset_index(drop=True)\n",
    " \n",
    "#Affichage du résultat\n",
    "print(data_balanced['rating'].value_counts())\n",
    "print(data_balanced.head())"
   ]
  },
  {
   "cell_type": "code",
   "execution_count": 3,
   "metadata": {},
   "outputs": [
    {
     "name": "stdout",
     "output_type": "stream",
     "text": [
      "<class 'pandas.core.frame.DataFrame'>\n",
      "RangeIndex: 40000 entries, 0 to 39999\n",
      "Data columns (total 2 columns):\n",
      " #   Column  Non-Null Count  Dtype \n",
      "---  ------  --------------  ----- \n",
      " 0   rating  40000 non-null  int32 \n",
      " 1   review  40000 non-null  object\n",
      "dtypes: int32(1), object(1)\n",
      "memory usage: 468.9+ KB\n",
      "None\n"
     ]
    },
    {
     "data": {
      "text/html": [
       "<div>\n",
       "<style scoped>\n",
       "    .dataframe tbody tr th:only-of-type {\n",
       "        vertical-align: middle;\n",
       "    }\n",
       "\n",
       "    .dataframe tbody tr th {\n",
       "        vertical-align: top;\n",
       "    }\n",
       "\n",
       "    .dataframe thead th {\n",
       "        text-align: right;\n",
       "    }\n",
       "</style>\n",
       "<table border=\"1\" class=\"dataframe\">\n",
       "  <thead>\n",
       "    <tr style=\"text-align: right;\">\n",
       "      <th></th>\n",
       "      <th>rating</th>\n",
       "      <th>review</th>\n",
       "    </tr>\n",
       "  </thead>\n",
       "  <tbody>\n",
       "    <tr>\n",
       "      <th>0</th>\n",
       "      <td>1</td>\n",
       "      <td>\"Hangover Square\" pourrait n'être qu'un simple...</td>\n",
       "    </tr>\n",
       "    <tr>\n",
       "      <th>1</th>\n",
       "      <td>0</td>\n",
       "      <td>Ce film est comme un roman de gare : c'est un ...</td>\n",
       "    </tr>\n",
       "    <tr>\n",
       "      <th>2</th>\n",
       "      <td>1</td>\n",
       "      <td>Il est très difficile de juger ce film. Car il...</td>\n",
       "    </tr>\n",
       "    <tr>\n",
       "      <th>3</th>\n",
       "      <td>0</td>\n",
       "      <td>Magnifiques paysages et une mère un peu décalé...</td>\n",
       "    </tr>\n",
       "    <tr>\n",
       "      <th>4</th>\n",
       "      <td>1</td>\n",
       "      <td>Malgré les années qui passent, ce film culte r...</td>\n",
       "    </tr>\n",
       "  </tbody>\n",
       "</table>\n",
       "</div>"
      ],
      "text/plain": [
       "   rating                                             review\n",
       "0       1  \"Hangover Square\" pourrait n'être qu'un simple...\n",
       "1       0  Ce film est comme un roman de gare : c'est un ...\n",
       "2       1  Il est très difficile de juger ce film. Car il...\n",
       "3       0  Magnifiques paysages et une mère un peu décalé...\n",
       "4       1  Malgré les années qui passent, ce film culte r..."
      ]
     },
     "execution_count": 3,
     "metadata": {},
     "output_type": "execute_result"
    }
   ],
   "source": [
    "print(data_balanced.info())\n",
    "(data_balanced.head())"
   ]
  },
  {
   "cell_type": "markdown",
   "metadata": {},
   "source": [
    "#### Nettoyage du Dataset"
   ]
  },
  {
   "cell_type": "code",
   "execution_count": 5,
   "metadata": {},
   "outputs": [
    {
     "name": "stdout",
     "output_type": "stream",
     "text": [
      "0    squar pourrait tre simpl film noir pur ju fact...\n",
      "1    film comm roman gare film dimanch donnent vrai...\n",
      "2    tr difficil juger film car appui base e max a ...\n",
      "3    magnifiqu paysag re peu cal e rapport doit fui...\n",
      "4    ann passent film cult rest air inoubli bonheur...\n",
      "Name: clean_text, dtype: object\n"
     ]
    }
   ],
   "source": [
    "#init mot_in_dict et sac_de_mot\n",
    "mot_in_dict = set([word.lower() for word in data_balanced['review'].astype(str).str.split().explode().unique()])\n",
    "sac_de_mot = list(mot_in_dict)\n",
    " \n",
    "#cleanning des données en utilisant mot_in_dict\n",
    "def clean_text(text):\n",
    "    text = re.sub(r'[^a-zA-Z]', ' ', text)  # Retirer les caractères non alphabétiques\n",
    "    text = text.lower()  # Convertir en minuscule\n",
    "    text = nltk.word_tokenize(text)  # Tokenisation\n",
    "    text = [word for word in text if word in mot_in_dict and word not in stopwords.words('french')]  # Retirer les stop words\n",
    "    text = [PorterStemmer().stem(word) for word in text]  # Stemming\n",
    "    return ' '.join(text)\n",
    " \n",
    "data_balanced['clean_text'] = data_balanced['review'].apply(clean_text)\n",
    " \n",
    "#Viz après nettoyage\n",
    "print(data_balanced['clean_text'].head())"
   ]
  },
  {
   "cell_type": "markdown",
   "metadata": {},
   "source": [
    "#### Visualisation de la Fréquence de mots après Traitement"
   ]
  },
  {
   "cell_type": "code",
   "execution_count": 13,
   "metadata": {},
   "outputs": [
    {
     "name": "stdout",
     "output_type": "stream",
     "text": [
      "[('film', 61676), ('r', 40976), ('a', 38747), ('tout', 22049), ('plu', 21770), ('tr', 20583), ('sc', 20012), ('e', 18140), ('bien', 18003), ('re', 16958), ('fait', 12245), ('tre', 11469), ('histoir', 11020), ('san', 10995), ('comm', 10863), ('acteur', 10598), ('si', 10023), ('bon', 9877), ('pr', 9603), ('peu', 9553), ('cett', 9178), ('grand', 8747), ('voir', 8477), ('personnag', 8382), ('aussi', 7919), ('vraiment', 6786), ('fair', 6782), ('autr', 6654), ('rien', 6420), ('peut', 6208), ('g', 6101), ('int', 6058), ('trop', 5935), ('o', 5856), ('petit', 5742), ('quelqu', 5349), ('fin', 5204), ('entr', 5200), ('deux', 5145), ('mal', 5114), ('h', 5057), ('com', 5038), ('p', 4979), ('foi', 4971), ('ne', 4768), ('tou', 4748), ('v', 4725), ('encor', 4718), ('assez', 4567), ('car', 4467)]\n"
     ]
    }
   ],
   "source": [
    "from nltk import FreqDist\n",
    "\n",
    "# Fonction pour créer le sac de mots et obtenir les mots les plus fréquents\n",
    "def sac_de_mots(list_clean_text):\n",
    "    all_words = []\n",
    "    for text in list_clean_text:\n",
    "        # Split le texte en mots et ajoute les mots à all_words\n",
    "        all_words.extend(text.split())\n",
    "    # Calcul des fréquences des mots\n",
    "    all_words_freq = FreqDist(all_words)\n",
    "    return all_words_freq\n",
    "\n",
    "# Application de la fonction sur la colonne 'clean_text'\n",
    "sac_mots = sac_de_mots(data_balanced['clean_text'])\n",
    "\n",
    "# Afficher les 15 mots les plus fréquents\n",
    "print(sac_mots.most_common(50))"
   ]
  },
  {
   "cell_type": "code",
   "execution_count": 14,
   "metadata": {},
   "outputs": [
    {
     "data": {
      "text/plain": [
       "<Axes: xlabel='Samples', ylabel='Counts'>"
      ]
     },
     "execution_count": 14,
     "metadata": {},
     "output_type": "execute_result"
    },
    {
     "data": {
      "image/png": "[encoded data removed]",
      "text/plain": [
       "<Figure size 500x300 with 1 Axes>"
      ]
     },
     "metadata": {},
     "output_type": "display_data"
    }
   ],
   "source": [
    "import seaborn as sns\n",
    "sns.set()\n",
    "ax = plt.figure(figsize = (5,3))\n",
    "freqdist = FreqDist(sac_mots)\n",
    "freqdist.plot(25)"
   ]
  },
  {
   "cell_type": "markdown",
   "metadata": {},
   "source": [
    "#### World2Vec et Evaluation du score du modèle"
   ]
  },
  {
   "cell_type": "code",
   "execution_count": 10,
   "metadata": {},
   "outputs": [
    {
     "name": "stderr",
     "output_type": "stream",
     "text": [
      "c:\\Users\\PC\\AppData\\Local\\Programs\\Python\\Python39\\lib\\site-packages\\keras\\src\\layers\\rnn\\rnn.py:204: UserWarning: Do not pass an `input_shape`/`input_dim` argument to a layer. When using Sequential models, prefer using an `Input(shape)` object as the first layer in the model instead.\n",
      "  super().__init__(**kwargs)\n"
     ]
    },
    {
     "data": {
      "text/html": [
       "<pre style=\"white-space:pre;overflow-x:auto;line-height:normal;font-family:Menlo,'DejaVu Sans Mono',consolas,'Courier New',monospace\"><span style=\"font-weight: bold\">Model: \"sequential_1\"</span>\n",
       "</pre>\n"
      ],
      "text/plain": [
       "\u001b[1mModel: \"sequential_1\"\u001b[0m\n"
      ]
     },
     "metadata": {},
     "output_type": "display_data"
    },
    {
     "data": {
      "text/html": [
       "<pre style=\"white-space:pre;overflow-x:auto;line-height:normal;font-family:Menlo,'DejaVu Sans Mono',consolas,'Courier New',monospace\">┏━━━━━━━━━━━━━━━━━━━━━━━━━━━━━━━━━┳━━━━━━━━━━━━━━━━━━━━━━━━┳━━━━━━━━━━━━━━━┓\n",
       "┃<span style=\"font-weight: bold\"> Layer (type)                    </span>┃<span style=\"font-weight: bold\"> Output Shape           </span>┃<span style=\"font-weight: bold\">       Param # </span>┃\n",
       "┡━━━━━━━━━━━━━━━━━━━━━━━━━━━━━━━━━╇━━━━━━━━━━━━━━━━━━━━━━━━╇━━━━━━━━━━━━━━━┩\n",
       "│ lstm_3 (<span style=\"color: #0087ff; text-decoration-color: #0087ff\">LSTM</span>)                   │ (<span style=\"color: #00d7ff; text-decoration-color: #00d7ff\">None</span>, <span style=\"color: #00af00; text-decoration-color: #00af00\">100</span>, <span style=\"color: #00af00; text-decoration-color: #00af00\">100</span>)       │        <span style=\"color: #00af00; text-decoration-color: #00af00\">80,400</span> │\n",
       "├─────────────────────────────────┼────────────────────────┼───────────────┤\n",
       "│ dropout_2 (<span style=\"color: #0087ff; text-decoration-color: #0087ff\">Dropout</span>)             │ (<span style=\"color: #00d7ff; text-decoration-color: #00d7ff\">None</span>, <span style=\"color: #00af00; text-decoration-color: #00af00\">100</span>, <span style=\"color: #00af00; text-decoration-color: #00af00\">100</span>)       │             <span style=\"color: #00af00; text-decoration-color: #00af00\">0</span> │\n",
       "├─────────────────────────────────┼────────────────────────┼───────────────┤\n",
       "│ lstm_4 (<span style=\"color: #0087ff; text-decoration-color: #0087ff\">LSTM</span>)                   │ (<span style=\"color: #00d7ff; text-decoration-color: #00d7ff\">None</span>, <span style=\"color: #00af00; text-decoration-color: #00af00\">100</span>, <span style=\"color: #00af00; text-decoration-color: #00af00\">32</span>)        │        <span style=\"color: #00af00; text-decoration-color: #00af00\">17,024</span> │\n",
       "├─────────────────────────────────┼────────────────────────┼───────────────┤\n",
       "│ dropout_3 (<span style=\"color: #0087ff; text-decoration-color: #0087ff\">Dropout</span>)             │ (<span style=\"color: #00d7ff; text-decoration-color: #00d7ff\">None</span>, <span style=\"color: #00af00; text-decoration-color: #00af00\">100</span>, <span style=\"color: #00af00; text-decoration-color: #00af00\">32</span>)        │             <span style=\"color: #00af00; text-decoration-color: #00af00\">0</span> │\n",
       "├─────────────────────────────────┼────────────────────────┼───────────────┤\n",
       "│ lstm_5 (<span style=\"color: #0087ff; text-decoration-color: #0087ff\">LSTM</span>)                   │ (<span style=\"color: #00d7ff; text-decoration-color: #00d7ff\">None</span>, <span style=\"color: #00af00; text-decoration-color: #00af00\">32</span>)             │         <span style=\"color: #00af00; text-decoration-color: #00af00\">8,320</span> │\n",
       "├─────────────────────────────────┼────────────────────────┼───────────────┤\n",
       "│ dense_1 (<span style=\"color: #0087ff; text-decoration-color: #0087ff\">Dense</span>)                 │ (<span style=\"color: #00d7ff; text-decoration-color: #00d7ff\">None</span>, <span style=\"color: #00af00; text-decoration-color: #00af00\">1</span>)              │            <span style=\"color: #00af00; text-decoration-color: #00af00\">33</span> │\n",
       "└─────────────────────────────────┴────────────────────────┴───────────────┘\n",
       "</pre>\n"
      ],
      "text/plain": [
       "┏━━━━━━━━━━━━━━━━━━━━━━━━━━━━━━━━━┳━━━━━━━━━━━━━━━━━━━━━━━━┳━━━━━━━━━━━━━━━┓\n",
       "┃\u001b[1m \u001b[0m\u001b[1mLayer (type)                   \u001b[0m\u001b[1m \u001b[0m┃\u001b[1m \u001b[0m\u001b[1mOutput Shape          \u001b[0m\u001b[1m \u001b[0m┃\u001b[1m \u001b[0m\u001b[1m      Param #\u001b[0m\u001b[1m \u001b[0m┃\n",
       "┡━━━━━━━━━━━━━━━━━━━━━━━━━━━━━━━━━╇━━━━━━━━━━━━━━━━━━━━━━━━╇━━━━━━━━━━━━━━━┩\n",
       "│ lstm_3 (\u001b[38;5;33mLSTM\u001b[0m)                   │ (\u001b[38;5;45mNone\u001b[0m, \u001b[38;5;34m100\u001b[0m, \u001b[38;5;34m100\u001b[0m)       │        \u001b[38;5;34m80,400\u001b[0m │\n",
       "├─────────────────────────────────┼────────────────────────┼───────────────┤\n",
       "│ dropout_2 (\u001b[38;5;33mDropout\u001b[0m)             │ (\u001b[38;5;45mNone\u001b[0m, \u001b[38;5;34m100\u001b[0m, \u001b[38;5;34m100\u001b[0m)       │             \u001b[38;5;34m0\u001b[0m │\n",
       "├─────────────────────────────────┼────────────────────────┼───────────────┤\n",
       "│ lstm_4 (\u001b[38;5;33mLSTM\u001b[0m)                   │ (\u001b[38;5;45mNone\u001b[0m, \u001b[38;5;34m100\u001b[0m, \u001b[38;5;34m32\u001b[0m)        │        \u001b[38;5;34m17,024\u001b[0m │\n",
       "├─────────────────────────────────┼────────────────────────┼───────────────┤\n",
       "│ dropout_3 (\u001b[38;5;33mDropout\u001b[0m)             │ (\u001b[38;5;45mNone\u001b[0m, \u001b[38;5;34m100\u001b[0m, \u001b[38;5;34m32\u001b[0m)        │             \u001b[38;5;34m0\u001b[0m │\n",
       "├─────────────────────────────────┼────────────────────────┼───────────────┤\n",
       "│ lstm_5 (\u001b[38;5;33mLSTM\u001b[0m)                   │ (\u001b[38;5;45mNone\u001b[0m, \u001b[38;5;34m32\u001b[0m)             │         \u001b[38;5;34m8,320\u001b[0m │\n",
       "├─────────────────────────────────┼────────────────────────┼───────────────┤\n",
       "│ dense_1 (\u001b[38;5;33mDense\u001b[0m)                 │ (\u001b[38;5;45mNone\u001b[0m, \u001b[38;5;34m1\u001b[0m)              │            \u001b[38;5;34m33\u001b[0m │\n",
       "└─────────────────────────────────┴────────────────────────┴───────────────┘\n"
      ]
     },
     "metadata": {},
     "output_type": "display_data"
    },
    {
     "data": {
      "text/html": [
       "<pre style=\"white-space:pre;overflow-x:auto;line-height:normal;font-family:Menlo,'DejaVu Sans Mono',consolas,'Courier New',monospace\"><span style=\"font-weight: bold\"> Total params: </span><span style=\"color: #00af00; text-decoration-color: #00af00\">105,777</span> (413.19 KB)\n",
       "</pre>\n"
      ],
      "text/plain": [
       "\u001b[1m Total params: \u001b[0m\u001b[38;5;34m105,777\u001b[0m (413.19 KB)\n"
      ]
     },
     "metadata": {},
     "output_type": "display_data"
    },
    {
     "data": {
      "text/html": [
       "<pre style=\"white-space:pre;overflow-x:auto;line-height:normal;font-family:Menlo,'DejaVu Sans Mono',consolas,'Courier New',monospace\"><span style=\"font-weight: bold\"> Trainable params: </span><span style=\"color: #00af00; text-decoration-color: #00af00\">105,777</span> (413.19 KB)\n",
       "</pre>\n"
      ],
      "text/plain": [
       "\u001b[1m Trainable params: \u001b[0m\u001b[38;5;34m105,777\u001b[0m (413.19 KB)\n"
      ]
     },
     "metadata": {},
     "output_type": "display_data"
    },
    {
     "data": {
      "text/html": [
       "<pre style=\"white-space:pre;overflow-x:auto;line-height:normal;font-family:Menlo,'DejaVu Sans Mono',consolas,'Courier New',monospace\"><span style=\"font-weight: bold\"> Non-trainable params: </span><span style=\"color: #00af00; text-decoration-color: #00af00\">0</span> (0.00 B)\n",
       "</pre>\n"
      ],
      "text/plain": [
       "\u001b[1m Non-trainable params: \u001b[0m\u001b[38;5;34m0\u001b[0m (0.00 B)\n"
      ]
     },
     "metadata": {},
     "output_type": "display_data"
    },
    {
     "name": "stdout",
     "output_type": "stream",
     "text": [
      "Epoch 1/20\n",
      "\u001b[1m450/450\u001b[0m \u001b[32m━━━━━━━━━━━━━━━━━━━━\u001b[0m\u001b[37m\u001b[0m \u001b[1m43s\u001b[0m 86ms/step - accuracy: 0.6082 - loss: 0.6502 - val_accuracy: 0.6159 - val_loss: 0.6351\n",
      "Epoch 2/20\n",
      "\u001b[1m450/450\u001b[0m \u001b[32m━━━━━━━━━━━━━━━━━━━━\u001b[0m\u001b[37m\u001b[0m \u001b[1m38s\u001b[0m 85ms/step - accuracy: 0.6215 - loss: 0.6342 - val_accuracy: 0.6503 - val_loss: 0.6194\n",
      "Epoch 3/20\n",
      "\u001b[1m450/450\u001b[0m \u001b[32m━━━━━━━━━━━━━━━━━━━━\u001b[0m\u001b[37m\u001b[0m \u001b[1m38s\u001b[0m 84ms/step - accuracy: 0.6080 - loss: 0.6370 - val_accuracy: 0.6272 - val_loss: 0.6422\n",
      "Epoch 4/20\n",
      "\u001b[1m450/450\u001b[0m \u001b[32m━━━━━━━━━━━━━━━━━━━━\u001b[0m\u001b[37m\u001b[0m \u001b[1m38s\u001b[0m 84ms/step - accuracy: 0.6341 - loss: 0.6272 - val_accuracy: 0.8128 - val_loss: 0.4505\n",
      "Epoch 5/20\n",
      "\u001b[1m450/450\u001b[0m \u001b[32m━━━━━━━━━━━━━━━━━━━━\u001b[0m\u001b[37m\u001b[0m \u001b[1m37s\u001b[0m 82ms/step - accuracy: 0.8409 - loss: 0.3899 - val_accuracy: 0.8737 - val_loss: 0.2959\n",
      "Epoch 6/20\n",
      "\u001b[1m450/450\u001b[0m \u001b[32m━━━━━━━━━━━━━━━━━━━━\u001b[0m\u001b[37m\u001b[0m \u001b[1m37s\u001b[0m 83ms/step - accuracy: 0.8751 - loss: 0.3027 - val_accuracy: 0.8809 - val_loss: 0.2857\n",
      "Epoch 7/20\n",
      "\u001b[1m450/450\u001b[0m \u001b[32m━━━━━━━━━━━━━━━━━━━━\u001b[0m\u001b[37m\u001b[0m \u001b[1m38s\u001b[0m 84ms/step - accuracy: 0.8830 - loss: 0.2796 - val_accuracy: 0.8934 - val_loss: 0.2661\n",
      "Epoch 8/20\n",
      "\u001b[1m450/450\u001b[0m \u001b[32m━━━━━━━━━━━━━━━━━━━━\u001b[0m\u001b[37m\u001b[0m \u001b[1m39s\u001b[0m 86ms/step - accuracy: 0.8931 - loss: 0.2642 - val_accuracy: 0.8888 - val_loss: 0.2657\n",
      "Epoch 9/20\n",
      "\u001b[1m450/450\u001b[0m \u001b[32m━━━━━━━━━━━━━━━━━━━━\u001b[0m\u001b[37m\u001b[0m \u001b[1m43s\u001b[0m 95ms/step - accuracy: 0.8971 - loss: 0.2444 - val_accuracy: 0.8925 - val_loss: 0.2530\n",
      "Epoch 10/20\n",
      "\u001b[1m450/450\u001b[0m \u001b[32m━━━━━━━━━━━━━━━━━━━━\u001b[0m\u001b[37m\u001b[0m \u001b[1m40s\u001b[0m 88ms/step - accuracy: 0.9045 - loss: 0.2269 - val_accuracy: 0.8947 - val_loss: 0.2560\n",
      "Epoch 11/20\n",
      "\u001b[1m450/450\u001b[0m \u001b[32m━━━━━━━━━━━━━━━━━━━━\u001b[0m\u001b[37m\u001b[0m \u001b[1m39s\u001b[0m 86ms/step - accuracy: 0.9097 - loss: 0.2178 - val_accuracy: 0.8919 - val_loss: 0.2498\n",
      "Epoch 12/20\n",
      "\u001b[1m450/450\u001b[0m \u001b[32m━━━━━━━━━━━━━━━━━━━━\u001b[0m\u001b[37m\u001b[0m \u001b[1m41s\u001b[0m 91ms/step - accuracy: 0.9185 - loss: 0.2015 - val_accuracy: 0.8966 - val_loss: 0.2552\n",
      "Epoch 13/20\n",
      "\u001b[1m450/450\u001b[0m \u001b[32m━━━━━━━━━━━━━━━━━━━━\u001b[0m\u001b[37m\u001b[0m \u001b[1m39s\u001b[0m 87ms/step - accuracy: 0.9259 - loss: 0.1820 - val_accuracy: 0.8909 - val_loss: 0.2774\n",
      "Epoch 14/20\n",
      "\u001b[1m450/450\u001b[0m \u001b[32m━━━━━━━━━━━━━━━━━━━━\u001b[0m\u001b[37m\u001b[0m \u001b[1m39s\u001b[0m 86ms/step - accuracy: 0.9326 - loss: 0.1708 - val_accuracy: 0.8922 - val_loss: 0.2697\n",
      "Epoch 15/20\n",
      "\u001b[1m450/450\u001b[0m \u001b[32m━━━━━━━━━━━━━━━━━━━━\u001b[0m\u001b[37m\u001b[0m \u001b[1m39s\u001b[0m 86ms/step - accuracy: 0.9388 - loss: 0.1540 - val_accuracy: 0.8859 - val_loss: 0.2978\n",
      "Epoch 16/20\n",
      "\u001b[1m450/450\u001b[0m \u001b[32m━━━━━━━━━━━━━━━━━━━━\u001b[0m\u001b[37m\u001b[0m \u001b[1m40s\u001b[0m 88ms/step - accuracy: 0.9499 - loss: 0.1309 - val_accuracy: 0.8781 - val_loss: 0.3239\n",
      "Epoch 17/20\n",
      "\u001b[1m450/450\u001b[0m \u001b[32m━━━━━━━━━━━━━━━━━━━━\u001b[0m\u001b[37m\u001b[0m \u001b[1m39s\u001b[0m 86ms/step - accuracy: 0.9553 - loss: 0.1190 - val_accuracy: 0.8897 - val_loss: 0.3121\n",
      "Epoch 18/20\n",
      "\u001b[1m450/450\u001b[0m \u001b[32m━━━━━━━━━━━━━━━━━━━━\u001b[0m\u001b[37m\u001b[0m \u001b[1m40s\u001b[0m 88ms/step - accuracy: 0.9634 - loss: 0.1000 - val_accuracy: 0.8944 - val_loss: 0.3227\n",
      "Epoch 19/20\n",
      "\u001b[1m450/450\u001b[0m \u001b[32m━━━━━━━━━━━━━━━━━━━━\u001b[0m\u001b[37m\u001b[0m \u001b[1m38s\u001b[0m 84ms/step - accuracy: 0.9675 - loss: 0.0902 - val_accuracy: 0.8913 - val_loss: 0.3307\n",
      "Epoch 20/20\n",
      "\u001b[1m450/450\u001b[0m \u001b[32m━━━━━━━━━━━━━━━━━━━━\u001b[0m\u001b[37m\u001b[0m \u001b[1m38s\u001b[0m 85ms/step - accuracy: 0.9753 - loss: 0.0756 - val_accuracy: 0.8875 - val_loss: 0.3811\n"
     ]
    },
    {
     "data": {
      "image/png": "[encoded data removed]",
      "text/plain": [
       "<Figure size 640x480 with 1 Axes>"
      ]
     },
     "metadata": {},
     "output_type": "display_data"
    }
   ],
   "source": [
    "#init embeddings word2Vec\n",
    "sentences = [nltk.word_tokenize(text) for text in data_balanced['clean_text']]\n",
    "word2vec_model = Word2Vec(sentences, vector_size=100, window=5, min_count=1, workers=4)\n",
    " \n",
    "#Préparation des données pour training\n",
    "tokenizer = nltk.tokenize.RegexpTokenizer(r'\\w+')\n",
    "data_balanced['tokens'] = data_balanced['clean_text'].apply(lambda x: tokenizer.tokenize(x))\n",
    "X = data_balanced['tokens']\n",
    "y = data_balanced['rating']  # Variable de sortie corrigée\n",
    " \n",
    "#Transformation des données avec sac_de_mot\n",
    "X_vectorized = [\n",
    "    [word2vec_model.wv[word] if word in word2vec_model.wv else np.zeros(100) for word in text] \n",
    "    if len(text) > 0 else [np.zeros(100)]  # Assure qu'il y ait au moins un vecteur nul si la liste est vide\n",
    "    for text in X\n",
    "]\n",
    " \n",
    "# Chaque séquence est limitée à 100 mots (en tronquant ou en ajoutant des zéros si nécessaire)\n",
    "X_padded = np.array([np.pad(x, ((0, max(0, 100 - len(x))), (0, 0)), 'constant', constant_values=0)[:100] for x in X_vectorized])\n",
    " \n",
    "X_train, X_test, y_train, y_test = train_test_split(X_padded, y, test_size=0.2, random_state=42)\n",
    " \n",
    "#Construction du modèle LSTM empilé\n",
    "model = Sequential()\n",
    "model.add(LSTM(100, return_sequences=True, input_shape=(100, 100)))\n",
    "model.add(Dropout(0.2))\n",
    "model.add(LSTM(32, return_sequences=True))\n",
    "model.add(Dropout(0.2))\n",
    "model.add(LSTM(32))\n",
    "model.add(Dense(1, activation='sigmoid'))\n",
    " \n",
    "model.compile(loss='binary_crossentropy', optimizer='adam', metrics=['accuracy'])\n",
    "model.summary()\n",
    " \n",
    "#Training du modèle\n",
    "history = model.fit(X_train, np.array(y_train), epochs=20, batch_size=64, validation_split=0.1)\n",
    " \n",
    "#Viz des performances\n",
    "plt.plot(history.history['accuracy'])\n",
    "plt.plot(history.history['val_accuracy'])\n",
    "plt.title('Précision du modèle')\n",
    "plt.xlabel('Epochs')\n",
    "plt.ylabel('Accuracy')\n",
    "plt.legend(['Train', 'Validation'])\n",
    "plt.show()"
   ]
  }
 ],
 "metadata": {
  "kernelspec": {
   "display_name": "Python 3",
   "language": "python",
   "name": "python3"
  },
  "language_info": {
   "codemirror_mode": {
    "name": "ipython",
    "version": 3
   },
   "file_extension": ".py",
   "mimetype": "text/x-python",
   "name": "python",
   "nbconvert_exporter": "python",
   "pygments_lexer": "ipython3",
   "version": "3.9.10"
  }
 },
 "nbformat": 4,
 "nbformat_minor": 2
}
